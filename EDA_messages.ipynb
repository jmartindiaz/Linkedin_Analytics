{
 "cells": [
  {
   "cell_type": "code",
   "execution_count": 6,
   "metadata": {},
   "outputs": [],
   "source": [
    "import pandas as pd\n",
    "import numpy as np\n",
    "import matplotlib.pyplot as plt\n",
    "import datetime as dt"
   ]
  },
  {
   "cell_type": "code",
   "execution_count": 7,
   "metadata": {},
   "outputs": [
    {
     "data": {
      "text/html": [
       "<div>\n",
       "<style scoped>\n",
       "    .dataframe tbody tr th:only-of-type {\n",
       "        vertical-align: middle;\n",
       "    }\n",
       "\n",
       "    .dataframe tbody tr th {\n",
       "        vertical-align: top;\n",
       "    }\n",
       "\n",
       "    .dataframe thead th {\n",
       "        text-align: right;\n",
       "    }\n",
       "</style>\n",
       "<table border=\"1\" class=\"dataframe\">\n",
       "  <thead>\n",
       "    <tr style=\"text-align: right;\">\n",
       "      <th></th>\n",
       "      <th>CONVERSATION ID</th>\n",
       "      <th>CONVERSATION TITLE</th>\n",
       "      <th>FROM</th>\n",
       "      <th>SENDER PROFILE URL</th>\n",
       "      <th>TO</th>\n",
       "      <th>RECIPIENT PROFILE URLS</th>\n",
       "      <th>DATE</th>\n",
       "      <th>SUBJECT</th>\n",
       "      <th>CONTENT</th>\n",
       "      <th>FOLDER</th>\n",
       "    </tr>\n",
       "  </thead>\n",
       "  <tbody>\n",
       "    <tr>\n",
       "      <th>2211</th>\n",
       "      <td>2-ODdiYzQyYWUtZjQ3OC00N2I3LWIyZmYtZDU2MzYzMGE0...</td>\n",
       "      <td>Prueba LinkedIn Premium</td>\n",
       "      <td>Melissa, de LinkedIn Premium</td>\n",
       "      <td>NaN</td>\n",
       "      <td>Juan Martin Diaz</td>\n",
       "      <td>https://www.linkedin.com/in/juan-martin-diaz</td>\n",
       "      <td>2021-11-21 20:20:01 UTC</td>\n",
       "      <td>NaN</td>\n",
       "      <td>&lt;p class=\"spinmail-quill-editor__spin-break\"&gt;H...</td>\n",
       "      <td>ARCHIVE</td>\n",
       "    </tr>\n",
       "    <tr>\n",
       "      <th>2212</th>\n",
       "      <td>2-YTFmMjdkYjAtMGFmMi00MjNkLWE0NTMtZTVmNjNhZWU0...</td>\n",
       "      <td>Gracias por ser usuario de LinkedIn</td>\n",
       "      <td>Liza, de LinkedIn Premium</td>\n",
       "      <td>NaN</td>\n",
       "      <td>Juan Martin Diaz</td>\n",
       "      <td>https://www.linkedin.com/in/juan-martin-diaz</td>\n",
       "      <td>2020-09-21 17:26:30 UTC</td>\n",
       "      <td>NaN</td>\n",
       "      <td>&lt;p class=\"spinmail-quill-editor__spin-break\"&gt;H...</td>\n",
       "      <td>ARCHIVE</td>\n",
       "    </tr>\n",
       "    <tr>\n",
       "      <th>2213</th>\n",
       "      <td>2-MjM1NGYwM2MtOTk3Mi01MDg0LTg1YzYtZmIyZGUzZTgx...</td>\n",
       "      <td>NaN</td>\n",
       "      <td>Guzmán @ LinkedIn Learning</td>\n",
       "      <td>NaN</td>\n",
       "      <td>Juan Martin Diaz</td>\n",
       "      <td>https://www.linkedin.com/in/juan-martin-diaz</td>\n",
       "      <td>2018-10-29 13:30:57 UTC</td>\n",
       "      <td>NaN</td>\n",
       "      <td>Hola&amp;nbsp;Juan Martin,Prueba durante un mes de...</td>\n",
       "      <td>ARCHIVE</td>\n",
       "    </tr>\n",
       "    <tr>\n",
       "      <th>2214</th>\n",
       "      <td>2-ZmU5NjgxNWUtYzVmZS01YTA3LThmMzctMTUyODM3ZTky...</td>\n",
       "      <td>NaN</td>\n",
       "      <td>LinkedIn Premium</td>\n",
       "      <td>NaN</td>\n",
       "      <td>Juan Martin Diaz</td>\n",
       "      <td>https://www.linkedin.com/in/juan-martin-diaz</td>\n",
       "      <td>2018-04-20 02:32:45 UTC</td>\n",
       "      <td>NaN</td>\n",
       "      <td>Hola,&amp;nbsp;Juan Martin:Millones de usuarios de...</td>\n",
       "      <td>ARCHIVE</td>\n",
       "    </tr>\n",
       "  </tbody>\n",
       "</table>\n",
       "</div>"
      ],
      "text/plain": [
       "                                        CONVERSATION ID  \\\n",
       "2211  2-ODdiYzQyYWUtZjQ3OC00N2I3LWIyZmYtZDU2MzYzMGE0...   \n",
       "2212  2-YTFmMjdkYjAtMGFmMi00MjNkLWE0NTMtZTVmNjNhZWU0...   \n",
       "2213  2-MjM1NGYwM2MtOTk3Mi01MDg0LTg1YzYtZmIyZGUzZTgx...   \n",
       "2214  2-ZmU5NjgxNWUtYzVmZS01YTA3LThmMzctMTUyODM3ZTky...   \n",
       "\n",
       "                       CONVERSATION TITLE                          FROM  \\\n",
       "2211              Prueba LinkedIn Premium  Melissa, de LinkedIn Premium   \n",
       "2212  Gracias por ser usuario de LinkedIn     Liza, de LinkedIn Premium   \n",
       "2213                                  NaN    Guzmán @ LinkedIn Learning   \n",
       "2214                                  NaN              LinkedIn Premium   \n",
       "\n",
       "     SENDER PROFILE URL                TO  \\\n",
       "2211                NaN  Juan Martin Diaz   \n",
       "2212                NaN  Juan Martin Diaz   \n",
       "2213                NaN  Juan Martin Diaz   \n",
       "2214                NaN  Juan Martin Diaz   \n",
       "\n",
       "                            RECIPIENT PROFILE URLS                     DATE  \\\n",
       "2211  https://www.linkedin.com/in/juan-martin-diaz  2021-11-21 20:20:01 UTC   \n",
       "2212  https://www.linkedin.com/in/juan-martin-diaz  2020-09-21 17:26:30 UTC   \n",
       "2213  https://www.linkedin.com/in/juan-martin-diaz  2018-10-29 13:30:57 UTC   \n",
       "2214  https://www.linkedin.com/in/juan-martin-diaz  2018-04-20 02:32:45 UTC   \n",
       "\n",
       "      SUBJECT                                            CONTENT   FOLDER  \n",
       "2211      NaN  <p class=\"spinmail-quill-editor__spin-break\">H...  ARCHIVE  \n",
       "2212      NaN  <p class=\"spinmail-quill-editor__spin-break\">H...  ARCHIVE  \n",
       "2213      NaN  Hola&nbsp;Juan Martin,Prueba durante un mes de...  ARCHIVE  \n",
       "2214      NaN  Hola,&nbsp;Juan Martin:Millones de usuarios de...  ARCHIVE  "
      ]
     },
     "execution_count": 7,
     "metadata": {},
     "output_type": "execute_result"
    }
   ],
   "source": [
    "msg = pd.read_csv('datasets/messages.csv')\n",
    "msg.tail(4)"
   ]
  },
  {
   "cell_type": "code",
   "execution_count": 24,
   "metadata": {},
   "outputs": [
    {
     "data": {
      "text/plain": [
       "(2215, 10)"
      ]
     },
     "execution_count": 24,
     "metadata": {},
     "output_type": "execute_result"
    }
   ],
   "source": [
    "msg.shape\n",
    "# es decir, tenemos un total de 2215 mensajes recibidos/enviados en nuestra casilla "
   ]
  },
  {
   "cell_type": "code",
   "execution_count": 25,
   "metadata": {},
   "outputs": [
    {
     "data": {
      "text/plain": [
       "Index(['CONVERSATION ID', 'CONVERSATION TITLE', 'FROM', 'SENDER PROFILE URL',\n",
       "       'TO', 'RECIPIENT PROFILE URLS', 'DATE', 'SUBJECT', 'CONTENT', 'FOLDER'],\n",
       "      dtype='object')"
      ]
     },
     "execution_count": 25,
     "metadata": {},
     "output_type": "execute_result"
    }
   ],
   "source": [
    "msg.columns"
   ]
  },
  {
   "cell_type": "code",
   "execution_count": 26,
   "metadata": {},
   "outputs": [
    {
     "name": "stdout",
     "output_type": "stream",
     "text": [
      "<class 'pandas.core.frame.DataFrame'>\n",
      "RangeIndex: 2215 entries, 0 to 2214\n",
      "Data columns (total 10 columns):\n",
      " #   Column                  Non-Null Count  Dtype  \n",
      "---  ------                  --------------  -----  \n",
      " 0   CONVERSATION ID         2215 non-null   object \n",
      " 1   CONVERSATION TITLE      28 non-null     object \n",
      " 2   FROM                    2208 non-null   object \n",
      " 3   SENDER PROFILE URL      2179 non-null   object \n",
      " 4   TO                      2207 non-null   object \n",
      " 5   RECIPIENT PROFILE URLS  2206 non-null   object \n",
      " 6   DATE                    2215 non-null   object \n",
      " 7   SUBJECT                 0 non-null      float64\n",
      " 8   CONTENT                 2178 non-null   object \n",
      " 9   FOLDER                  2215 non-null   object \n",
      "dtypes: float64(1), object(9)\n",
      "memory usage: 173.2+ KB\n"
     ]
    }
   ],
   "source": [
    "msg.info()"
   ]
  },
  {
   "cell_type": "code",
   "execution_count": 8,
   "metadata": {},
   "outputs": [
    {
     "data": {
      "text/html": [
       "<div>\n",
       "<style scoped>\n",
       "    .dataframe tbody tr th:only-of-type {\n",
       "        vertical-align: middle;\n",
       "    }\n",
       "\n",
       "    .dataframe tbody tr th {\n",
       "        vertical-align: top;\n",
       "    }\n",
       "\n",
       "    .dataframe thead th {\n",
       "        text-align: right;\n",
       "    }\n",
       "</style>\n",
       "<table border=\"1\" class=\"dataframe\">\n",
       "  <thead>\n",
       "    <tr style=\"text-align: right;\">\n",
       "      <th></th>\n",
       "      <th>CONVERSATION ID</th>\n",
       "      <th>FROM</th>\n",
       "      <th>TO</th>\n",
       "      <th>DATE</th>\n",
       "      <th>CONTENT</th>\n",
       "      <th>FOLDER</th>\n",
       "    </tr>\n",
       "  </thead>\n",
       "  <tbody>\n",
       "    <tr>\n",
       "      <th>0</th>\n",
       "      <td>2-MGIyMDY4NDMtYjU1YS00ODY3LTkyMjQtY2I5MTMxZWIw...</td>\n",
       "      <td>Gaston Ariel Garcia</td>\n",
       "      <td>Juan Martin Diaz</td>\n",
       "      <td>2023-08-22 21:33:15 UTC</td>\n",
       "      <td>Hola . gaston.garcia@medlog.com</td>\n",
       "      <td>INBOX</td>\n",
       "    </tr>\n",
       "    <tr>\n",
       "      <th>1</th>\n",
       "      <td>2-MGIyMDY4NDMtYjU1YS00ODY3LTkyMjQtY2I5MTMxZWIw...</td>\n",
       "      <td>Juan Martin Diaz</td>\n",
       "      <td>Gaston Ariel Garcia</td>\n",
       "      <td>2023-08-22 13:25:29 UTC</td>\n",
       "      <td>Gaston, te parecería que te pase esta info a a...</td>\n",
       "      <td>INBOX</td>\n",
       "    </tr>\n",
       "    <tr>\n",
       "      <th>2</th>\n",
       "      <td>2-MGIyMDY4NDMtYjU1YS00ODY3LTkyMjQtY2I5MTMxZWIw...</td>\n",
       "      <td>Gaston Ariel Garcia</td>\n",
       "      <td>Juan Martin Diaz</td>\n",
       "      <td>2023-08-17 15:41:07 UTC</td>\n",
       "      <td>Perfecto,  lo tengo presente por cualquier nec...</td>\n",
       "      <td>INBOX</td>\n",
       "    </tr>\n",
       "    <tr>\n",
       "      <th>3</th>\n",
       "      <td>2-MGIyMDY4NDMtYjU1YS00ODY3LTkyMjQtY2I5MTMxZWIw...</td>\n",
       "      <td>Gaston Ariel Garcia</td>\n",
       "      <td>Juan Martin Diaz</td>\n",
       "      <td>2023-08-17 15:40:47 UTC</td>\n",
       "      <td>Hola Juan.</td>\n",
       "      <td>INBOX</td>\n",
       "    </tr>\n",
       "    <tr>\n",
       "      <th>4</th>\n",
       "      <td>2-MGIyMDY4NDMtYjU1YS00ODY3LTkyMjQtY2I5MTMxZWIw...</td>\n",
       "      <td>Juan Martin Diaz</td>\n",
       "      <td>Gaston Ariel Garcia</td>\n",
       "      <td>2023-08-17 12:44:50 UTC</td>\n",
       "      <td>Buen día Gaston, como estas? Un gusto conectar...</td>\n",
       "      <td>INBOX</td>\n",
       "    </tr>\n",
       "    <tr>\n",
       "      <th>...</th>\n",
       "      <td>...</td>\n",
       "      <td>...</td>\n",
       "      <td>...</td>\n",
       "      <td>...</td>\n",
       "      <td>...</td>\n",
       "      <td>...</td>\n",
       "    </tr>\n",
       "    <tr>\n",
       "      <th>2210</th>\n",
       "      <td>2-YzJlYjUzNzMtZmYwMC00NjNiLWIxNmQtY2U3OGI0ZDU5...</td>\n",
       "      <td>Diane, de LinkedIn Premium</td>\n",
       "      <td>Juan Martin Diaz</td>\n",
       "      <td>2022-01-22 04:31:18 UTC</td>\n",
       "      <td>&lt;p class=\"spinmail-quill-editor__spin-break\"&gt;H...</td>\n",
       "      <td>ARCHIVE</td>\n",
       "    </tr>\n",
       "    <tr>\n",
       "      <th>2211</th>\n",
       "      <td>2-ODdiYzQyYWUtZjQ3OC00N2I3LWIyZmYtZDU2MzYzMGE0...</td>\n",
       "      <td>Melissa, de LinkedIn Premium</td>\n",
       "      <td>Juan Martin Diaz</td>\n",
       "      <td>2021-11-21 20:20:01 UTC</td>\n",
       "      <td>&lt;p class=\"spinmail-quill-editor__spin-break\"&gt;H...</td>\n",
       "      <td>ARCHIVE</td>\n",
       "    </tr>\n",
       "    <tr>\n",
       "      <th>2212</th>\n",
       "      <td>2-YTFmMjdkYjAtMGFmMi00MjNkLWE0NTMtZTVmNjNhZWU0...</td>\n",
       "      <td>Liza, de LinkedIn Premium</td>\n",
       "      <td>Juan Martin Diaz</td>\n",
       "      <td>2020-09-21 17:26:30 UTC</td>\n",
       "      <td>&lt;p class=\"spinmail-quill-editor__spin-break\"&gt;H...</td>\n",
       "      <td>ARCHIVE</td>\n",
       "    </tr>\n",
       "    <tr>\n",
       "      <th>2213</th>\n",
       "      <td>2-MjM1NGYwM2MtOTk3Mi01MDg0LTg1YzYtZmIyZGUzZTgx...</td>\n",
       "      <td>Guzmán @ LinkedIn Learning</td>\n",
       "      <td>Juan Martin Diaz</td>\n",
       "      <td>2018-10-29 13:30:57 UTC</td>\n",
       "      <td>Hola&amp;nbsp;Juan Martin,Prueba durante un mes de...</td>\n",
       "      <td>ARCHIVE</td>\n",
       "    </tr>\n",
       "    <tr>\n",
       "      <th>2214</th>\n",
       "      <td>2-ZmU5NjgxNWUtYzVmZS01YTA3LThmMzctMTUyODM3ZTky...</td>\n",
       "      <td>LinkedIn Premium</td>\n",
       "      <td>Juan Martin Diaz</td>\n",
       "      <td>2018-04-20 02:32:45 UTC</td>\n",
       "      <td>Hola,&amp;nbsp;Juan Martin:Millones de usuarios de...</td>\n",
       "      <td>ARCHIVE</td>\n",
       "    </tr>\n",
       "  </tbody>\n",
       "</table>\n",
       "<p>2215 rows × 6 columns</p>\n",
       "</div>"
      ],
      "text/plain": [
       "                                        CONVERSATION ID  \\\n",
       "0     2-MGIyMDY4NDMtYjU1YS00ODY3LTkyMjQtY2I5MTMxZWIw...   \n",
       "1     2-MGIyMDY4NDMtYjU1YS00ODY3LTkyMjQtY2I5MTMxZWIw...   \n",
       "2     2-MGIyMDY4NDMtYjU1YS00ODY3LTkyMjQtY2I5MTMxZWIw...   \n",
       "3     2-MGIyMDY4NDMtYjU1YS00ODY3LTkyMjQtY2I5MTMxZWIw...   \n",
       "4     2-MGIyMDY4NDMtYjU1YS00ODY3LTkyMjQtY2I5MTMxZWIw...   \n",
       "...                                                 ...   \n",
       "2210  2-YzJlYjUzNzMtZmYwMC00NjNiLWIxNmQtY2U3OGI0ZDU5...   \n",
       "2211  2-ODdiYzQyYWUtZjQ3OC00N2I3LWIyZmYtZDU2MzYzMGE0...   \n",
       "2212  2-YTFmMjdkYjAtMGFmMi00MjNkLWE0NTMtZTVmNjNhZWU0...   \n",
       "2213  2-MjM1NGYwM2MtOTk3Mi01MDg0LTg1YzYtZmIyZGUzZTgx...   \n",
       "2214  2-ZmU5NjgxNWUtYzVmZS01YTA3LThmMzctMTUyODM3ZTky...   \n",
       "\n",
       "                              FROM                   TO  \\\n",
       "0              Gaston Ariel Garcia     Juan Martin Diaz   \n",
       "1                 Juan Martin Diaz  Gaston Ariel Garcia   \n",
       "2              Gaston Ariel Garcia     Juan Martin Diaz   \n",
       "3              Gaston Ariel Garcia     Juan Martin Diaz   \n",
       "4                 Juan Martin Diaz  Gaston Ariel Garcia   \n",
       "...                            ...                  ...   \n",
       "2210    Diane, de LinkedIn Premium     Juan Martin Diaz   \n",
       "2211  Melissa, de LinkedIn Premium     Juan Martin Diaz   \n",
       "2212     Liza, de LinkedIn Premium     Juan Martin Diaz   \n",
       "2213    Guzmán @ LinkedIn Learning     Juan Martin Diaz   \n",
       "2214              LinkedIn Premium     Juan Martin Diaz   \n",
       "\n",
       "                         DATE  \\\n",
       "0     2023-08-22 21:33:15 UTC   \n",
       "1     2023-08-22 13:25:29 UTC   \n",
       "2     2023-08-17 15:41:07 UTC   \n",
       "3     2023-08-17 15:40:47 UTC   \n",
       "4     2023-08-17 12:44:50 UTC   \n",
       "...                       ...   \n",
       "2210  2022-01-22 04:31:18 UTC   \n",
       "2211  2021-11-21 20:20:01 UTC   \n",
       "2212  2020-09-21 17:26:30 UTC   \n",
       "2213  2018-10-29 13:30:57 UTC   \n",
       "2214  2018-04-20 02:32:45 UTC   \n",
       "\n",
       "                                                CONTENT   FOLDER  \n",
       "0                      Hola . gaston.garcia@medlog.com     INBOX  \n",
       "1     Gaston, te parecería que te pase esta info a a...    INBOX  \n",
       "2     Perfecto,  lo tengo presente por cualquier nec...    INBOX  \n",
       "3                                           Hola Juan.     INBOX  \n",
       "4     Buen día Gaston, como estas? Un gusto conectar...    INBOX  \n",
       "...                                                 ...      ...  \n",
       "2210  <p class=\"spinmail-quill-editor__spin-break\">H...  ARCHIVE  \n",
       "2211  <p class=\"spinmail-quill-editor__spin-break\">H...  ARCHIVE  \n",
       "2212  <p class=\"spinmail-quill-editor__spin-break\">H...  ARCHIVE  \n",
       "2213  Hola&nbsp;Juan Martin,Prueba durante un mes de...  ARCHIVE  \n",
       "2214  Hola,&nbsp;Juan Martin:Millones de usuarios de...  ARCHIVE  \n",
       "\n",
       "[2215 rows x 6 columns]"
      ]
     },
     "execution_count": 8,
     "metadata": {},
     "output_type": "execute_result"
    }
   ],
   "source": [
    "# removeremos las columnas que no nos sirven\n",
    "msg.drop(columns=['CONVERSATION TITLE', 'SUBJECT', 'SENDER PROFILE URL', 'RECIPIENT PROFILE URLS'], inplace=True)\n",
    "msg"
   ]
  },
  {
   "cell_type": "code",
   "execution_count": 35,
   "metadata": {},
   "outputs": [
    {
     "data": {
      "text/plain": [
       "FROM\n",
       "Juan Martin Diaz            1393\n",
       "Nicolás Coria                 29\n",
       "Maria Laura Gauna Fredes      22\n",
       "Joaquin Gamez Maggiori        21\n",
       "Juan cruz Vittori             16\n",
       "                            ... \n",
       "Federico Dabin Risso           1\n",
       "Juan Manuel Pagniez            1\n",
       "Oscar Fiochetta                1\n",
       "Felipe Segovia                 1\n",
       "LinkedIn Premium               1\n",
       "Name: count, Length: 254, dtype: int64"
      ]
     },
     "execution_count": 35,
     "metadata": {},
     "output_type": "execute_result"
    }
   ],
   "source": [
    "msg['FROM'].value_counts()\n"
   ]
  },
  {
   "cell_type": "code",
   "execution_count": 11,
   "metadata": {},
   "outputs": [
    {
     "data": {
      "text/plain": [
       "0       2023-08-22 21:33:15\n",
       "1       2023-08-22 13:25:29\n",
       "2       2023-08-17 15:41:07\n",
       "3       2023-08-17 15:40:47\n",
       "4       2023-08-17 12:44:50\n",
       "               ...         \n",
       "2210    2022-01-22 04:31:18\n",
       "2211    2021-11-21 20:20:01\n",
       "2212    2020-09-21 17:26:30\n",
       "2213    2018-10-29 13:30:57\n",
       "2214    2018-04-20 02:32:45\n",
       "Name: DATE, Length: 2215, dtype: object"
      ]
     },
     "execution_count": 11,
     "metadata": {},
     "output_type": "execute_result"
    }
   ],
   "source": [
    "\n",
    "msg['DATE'] = pd.to_datetime(msg['DATE']) # transformamos a tipo fecha\n",
    "msg['DATE'] = msg['DATE'].dt.strftime(date_format='%Y-%m-%d %H:%M:%S') # quitamos el +00:00 de la zona horaria\n",
    "msg['DATE']"
   ]
  },
  {
   "cell_type": "markdown",
   "metadata": {},
   "source": [
    "El siguiente paso seria crear una api con fastapi y render para mostrar en vivo un analisis de los datos."
   ]
  }
 ],
 "metadata": {
  "kernelspec": {
   "display_name": "linkedin_analytics-env",
   "language": "python",
   "name": "python3"
  },
  "language_info": {
   "codemirror_mode": {
    "name": "ipython",
    "version": 3
   },
   "file_extension": ".py",
   "mimetype": "text/x-python",
   "name": "python",
   "nbconvert_exporter": "python",
   "pygments_lexer": "ipython3",
   "version": "3.11.1"
  },
  "orig_nbformat": 4
 },
 "nbformat": 4,
 "nbformat_minor": 2
}
