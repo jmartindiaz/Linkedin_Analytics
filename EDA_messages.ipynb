{
 "cells": [
  {
   "cell_type": "code",
   "execution_count": 1,
   "metadata": {},
   "outputs": [],
   "source": [
    "import pandas as pd\n",
    "import numpy as np\n",
    "import datetime as dt"
   ]
  },
  {
   "cell_type": "markdown",
   "metadata": {},
   "source": [
    "### 1- Carga de csv y análisis básico."
   ]
  },
  {
   "cell_type": "code",
   "execution_count": 19,
   "metadata": {},
   "outputs": [
    {
     "data": {
      "text/html": [
       "<div>\n",
       "<style scoped>\n",
       "    .dataframe tbody tr th:only-of-type {\n",
       "        vertical-align: middle;\n",
       "    }\n",
       "\n",
       "    .dataframe tbody tr th {\n",
       "        vertical-align: top;\n",
       "    }\n",
       "\n",
       "    .dataframe thead th {\n",
       "        text-align: right;\n",
       "    }\n",
       "</style>\n",
       "<table border=\"1\" class=\"dataframe\">\n",
       "  <thead>\n",
       "    <tr style=\"text-align: right;\">\n",
       "      <th></th>\n",
       "      <th>CONVERSATION ID</th>\n",
       "      <th>CONVERSATION TITLE</th>\n",
       "      <th>FROM</th>\n",
       "      <th>SENDER PROFILE URL</th>\n",
       "      <th>TO</th>\n",
       "      <th>RECIPIENT PROFILE URLS</th>\n",
       "      <th>DATE</th>\n",
       "      <th>SUBJECT</th>\n",
       "      <th>CONTENT</th>\n",
       "      <th>FOLDER</th>\n",
       "    </tr>\n",
       "  </thead>\n",
       "  <tbody>\n",
       "    <tr>\n",
       "      <th>0</th>\n",
       "      <td>2-MGIyMDY4NDMtYjU1YS00ODY3LTkyMjQtY2I5MTMxZWIw...</td>\n",
       "      <td>NaN</td>\n",
       "      <td>Gaston Ariel Garcia</td>\n",
       "      <td>https://www.linkedin.com/in/gaston-ariel-garci...</td>\n",
       "      <td>Juan Martin Diaz</td>\n",
       "      <td>https://www.linkedin.com/in/juan-martin-diaz</td>\n",
       "      <td>2023-08-22 21:33:15 UTC</td>\n",
       "      <td>NaN</td>\n",
       "      <td>Hola . gaston.garcia@medlog.com</td>\n",
       "      <td>INBOX</td>\n",
       "    </tr>\n",
       "    <tr>\n",
       "      <th>1</th>\n",
       "      <td>2-MGIyMDY4NDMtYjU1YS00ODY3LTkyMjQtY2I5MTMxZWIw...</td>\n",
       "      <td>NaN</td>\n",
       "      <td>Juan Martin Diaz</td>\n",
       "      <td>https://www.linkedin.com/in/juan-martin-diaz</td>\n",
       "      <td>Gaston Ariel Garcia</td>\n",
       "      <td>https://www.linkedin.com/in/gaston-ariel-garci...</td>\n",
       "      <td>2023-08-22 13:25:29 UTC</td>\n",
       "      <td>NaN</td>\n",
       "      <td>Gaston, te parecería que te pase esta info a a...</td>\n",
       "      <td>INBOX</td>\n",
       "    </tr>\n",
       "    <tr>\n",
       "      <th>2</th>\n",
       "      <td>2-MGIyMDY4NDMtYjU1YS00ODY3LTkyMjQtY2I5MTMxZWIw...</td>\n",
       "      <td>NaN</td>\n",
       "      <td>Gaston Ariel Garcia</td>\n",
       "      <td>https://www.linkedin.com/in/gaston-ariel-garci...</td>\n",
       "      <td>Juan Martin Diaz</td>\n",
       "      <td>https://www.linkedin.com/in/juan-martin-diaz</td>\n",
       "      <td>2023-08-17 15:41:07 UTC</td>\n",
       "      <td>NaN</td>\n",
       "      <td>Perfecto,  lo tengo presente por cualquier nec...</td>\n",
       "      <td>INBOX</td>\n",
       "    </tr>\n",
       "    <tr>\n",
       "      <th>3</th>\n",
       "      <td>2-MGIyMDY4NDMtYjU1YS00ODY3LTkyMjQtY2I5MTMxZWIw...</td>\n",
       "      <td>NaN</td>\n",
       "      <td>Gaston Ariel Garcia</td>\n",
       "      <td>https://www.linkedin.com/in/gaston-ariel-garci...</td>\n",
       "      <td>Juan Martin Diaz</td>\n",
       "      <td>https://www.linkedin.com/in/juan-martin-diaz</td>\n",
       "      <td>2023-08-17 15:40:47 UTC</td>\n",
       "      <td>NaN</td>\n",
       "      <td>Hola Juan.</td>\n",
       "      <td>INBOX</td>\n",
       "    </tr>\n",
       "  </tbody>\n",
       "</table>\n",
       "</div>"
      ],
      "text/plain": [
       "                                     CONVERSATION ID CONVERSATION TITLE  \\\n",
       "0  2-MGIyMDY4NDMtYjU1YS00ODY3LTkyMjQtY2I5MTMxZWIw...                NaN   \n",
       "1  2-MGIyMDY4NDMtYjU1YS00ODY3LTkyMjQtY2I5MTMxZWIw...                NaN   \n",
       "2  2-MGIyMDY4NDMtYjU1YS00ODY3LTkyMjQtY2I5MTMxZWIw...                NaN   \n",
       "3  2-MGIyMDY4NDMtYjU1YS00ODY3LTkyMjQtY2I5MTMxZWIw...                NaN   \n",
       "\n",
       "                  FROM                                 SENDER PROFILE URL  \\\n",
       "0  Gaston Ariel Garcia  https://www.linkedin.com/in/gaston-ariel-garci...   \n",
       "1     Juan Martin Diaz       https://www.linkedin.com/in/juan-martin-diaz   \n",
       "2  Gaston Ariel Garcia  https://www.linkedin.com/in/gaston-ariel-garci...   \n",
       "3  Gaston Ariel Garcia  https://www.linkedin.com/in/gaston-ariel-garci...   \n",
       "\n",
       "                    TO                             RECIPIENT PROFILE URLS  \\\n",
       "0     Juan Martin Diaz       https://www.linkedin.com/in/juan-martin-diaz   \n",
       "1  Gaston Ariel Garcia  https://www.linkedin.com/in/gaston-ariel-garci...   \n",
       "2     Juan Martin Diaz       https://www.linkedin.com/in/juan-martin-diaz   \n",
       "3     Juan Martin Diaz       https://www.linkedin.com/in/juan-martin-diaz   \n",
       "\n",
       "                      DATE  SUBJECT  \\\n",
       "0  2023-08-22 21:33:15 UTC      NaN   \n",
       "1  2023-08-22 13:25:29 UTC      NaN   \n",
       "2  2023-08-17 15:41:07 UTC      NaN   \n",
       "3  2023-08-17 15:40:47 UTC      NaN   \n",
       "\n",
       "                                             CONTENT FOLDER  \n",
       "0                   Hola . gaston.garcia@medlog.com   INBOX  \n",
       "1  Gaston, te parecería que te pase esta info a a...  INBOX  \n",
       "2  Perfecto,  lo tengo presente por cualquier nec...  INBOX  \n",
       "3                                        Hola Juan.   INBOX  "
      ]
     },
     "execution_count": 19,
     "metadata": {},
     "output_type": "execute_result"
    }
   ],
   "source": [
    "msg = pd.read_csv('datasets/messages.csv')\n",
    "msg.head(4)"
   ]
  },
  {
   "cell_type": "code",
   "execution_count": 20,
   "metadata": {},
   "outputs": [
    {
     "data": {
      "text/plain": [
       "(2215, 10)"
      ]
     },
     "execution_count": 20,
     "metadata": {},
     "output_type": "execute_result"
    }
   ],
   "source": [
    "msg.shape"
   ]
  },
  {
   "cell_type": "code",
   "execution_count": 21,
   "metadata": {},
   "outputs": [
    {
     "data": {
      "text/plain": [
       "Index(['CONVERSATION ID', 'CONVERSATION TITLE', 'FROM', 'SENDER PROFILE URL',\n",
       "       'TO', 'RECIPIENT PROFILE URLS', 'DATE', 'SUBJECT', 'CONTENT', 'FOLDER'],\n",
       "      dtype='object')"
      ]
     },
     "execution_count": 21,
     "metadata": {},
     "output_type": "execute_result"
    }
   ],
   "source": [
    "msg.columns"
   ]
  },
  {
   "cell_type": "code",
   "execution_count": 22,
   "metadata": {},
   "outputs": [
    {
     "name": "stdout",
     "output_type": "stream",
     "text": [
      "<class 'pandas.core.frame.DataFrame'>\n",
      "RangeIndex: 2215 entries, 0 to 2214\n",
      "Data columns (total 10 columns):\n",
      " #   Column                  Non-Null Count  Dtype  \n",
      "---  ------                  --------------  -----  \n",
      " 0   CONVERSATION ID         2215 non-null   object \n",
      " 1   CONVERSATION TITLE      28 non-null     object \n",
      " 2   FROM                    2208 non-null   object \n",
      " 3   SENDER PROFILE URL      2179 non-null   object \n",
      " 4   TO                      2207 non-null   object \n",
      " 5   RECIPIENT PROFILE URLS  2206 non-null   object \n",
      " 6   DATE                    2215 non-null   object \n",
      " 7   SUBJECT                 0 non-null      float64\n",
      " 8   CONTENT                 2178 non-null   object \n",
      " 9   FOLDER                  2215 non-null   object \n",
      "dtypes: float64(1), object(9)\n",
      "memory usage: 173.2+ KB\n"
     ]
    }
   ],
   "source": [
    "msg.info()"
   ]
  },
  {
   "cell_type": "markdown",
   "metadata": {},
   "source": [
    "### 2- Corrección del formato de fecha"
   ]
  },
  {
   "cell_type": "code",
   "execution_count": 23,
   "metadata": {},
   "outputs": [],
   "source": [
    "# cambiamos el formato de la fecha\n",
    "\n",
    "msg['DATE'] = pd.to_datetime(msg['DATE']) # transformamos a tipo fecha\n",
    "msg['DATE'] = msg['DATE'].dt.strftime(date_format='%Y-%m-%d %H:%M:%S') # quitamos el +00:00 de la zona horaria"
   ]
  },
  {
   "cell_type": "markdown",
   "metadata": {},
   "source": [
    "La cuenta de Linkedin puede tener muchos mensajes que no son de utilidad para nuestro analisis, la fecha es algo que se debera tener en cuenta. \n",
    "\n",
    "Esto es así porque por ejemplo, en el año 2021 la empresa ni siquiera estaba realizando esta campaña de marketing, por eso, con el objetivo de mejorar la calidad de los datos vamos a fijar una fecha para analizar los datos de ahi en adelante\n",
    "- Fecha de comienzo de campaña: 2022-04-01"
   ]
  },
  {
   "cell_type": "code",
   "execution_count": 24,
   "metadata": {},
   "outputs": [],
   "source": [
    "msg = msg.loc[msg['DATE']>'2022-04-01'].reset_index(drop=True)"
   ]
  },
  {
   "cell_type": "code",
   "execution_count": 25,
   "metadata": {},
   "outputs": [
    {
     "data": {
      "text/plain": [
       "2118"
      ]
     },
     "execution_count": 25,
     "metadata": {},
     "output_type": "execute_result"
    }
   ],
   "source": [
    "len(msg) # notar que pasamos de tener 2215 registros a tener 2118"
   ]
  },
  {
   "cell_type": "markdown",
   "metadata": {},
   "source": [
    "### 3- Análisis del campo 'CONVERSATION TITLE'"
   ]
  },
  {
   "cell_type": "markdown",
   "metadata": {},
   "source": [
    "Aquí nos dimos cuenta de que todos los registros que poseen este campo con un valor no nulo corresponden a mensajes que consideraremos spam (promociones, linkedin premium, inversiones, etc). Borraremos estos registros.\n"
   ]
  },
  {
   "cell_type": "code",
   "execution_count": 26,
   "metadata": {},
   "outputs": [],
   "source": [
    "msg = msg[msg['CONVERSATION TITLE'].isna()]"
   ]
  },
  {
   "cell_type": "code",
   "execution_count": 27,
   "metadata": {},
   "outputs": [
    {
     "data": {
      "text/plain": [
       "2097"
      ]
     },
     "execution_count": 27,
     "metadata": {},
     "output_type": "execute_result"
    }
   ],
   "source": [
    "len(msg) # notar que hemos descartado 21 registros mas"
   ]
  },
  {
   "cell_type": "code",
   "execution_count": 28,
   "metadata": {},
   "outputs": [
    {
     "data": {
      "text/plain": [
       "CONVERSATION TITLE\n",
       "True    2097\n",
       "Name: count, dtype: int64"
      ]
     },
     "execution_count": 28,
     "metadata": {},
     "output_type": "execute_result"
    }
   ],
   "source": [
    "msg['CONVERSATION TITLE'].isna().value_counts() # verificamos que se hayan borrado todos los registros no nulos"
   ]
  },
  {
   "cell_type": "markdown",
   "metadata": {},
   "source": [
    "### 4- Análisis del campo 'FROM'"
   ]
  },
  {
   "cell_type": "markdown",
   "metadata": {},
   "source": [
    "Si recordamos la funcion info() que aplicamos en el punto 1 nos daremos cuenta que el campo 'FROM' tiene 2208/2215 datos no nulos. Los restantes los analizaremos a continuación y nos daremos cuenta que son datos perdidos. \n",
    "\n",
    "SI EL REGISTRO NO ESPECIFICA COMO MÍNIMO DE DONDE PROVIENE EL MENSAJE, ENTONCES ESE REGISTRO NO LE SIRVE A NUESTRO ANÁLISIS.\n",
    "\n",
    "Habría que analizar POR QUÉ no estan estos datos."
   ]
  },
  {
   "cell_type": "code",
   "execution_count": 29,
   "metadata": {},
   "outputs": [
    {
     "data": {
      "text/html": [
       "<div>\n",
       "<style scoped>\n",
       "    .dataframe tbody tr th:only-of-type {\n",
       "        vertical-align: middle;\n",
       "    }\n",
       "\n",
       "    .dataframe tbody tr th {\n",
       "        vertical-align: top;\n",
       "    }\n",
       "\n",
       "    .dataframe thead th {\n",
       "        text-align: right;\n",
       "    }\n",
       "</style>\n",
       "<table border=\"1\" class=\"dataframe\">\n",
       "  <thead>\n",
       "    <tr style=\"text-align: right;\">\n",
       "      <th></th>\n",
       "      <th>CONVERSATION ID</th>\n",
       "      <th>CONVERSATION TITLE</th>\n",
       "      <th>FROM</th>\n",
       "      <th>SENDER PROFILE URL</th>\n",
       "      <th>TO</th>\n",
       "      <th>RECIPIENT PROFILE URLS</th>\n",
       "      <th>DATE</th>\n",
       "      <th>SUBJECT</th>\n",
       "      <th>CONTENT</th>\n",
       "      <th>FOLDER</th>\n",
       "    </tr>\n",
       "  </thead>\n",
       "  <tbody>\n",
       "    <tr>\n",
       "      <th>77</th>\n",
       "      <td>2-NjMxODdkODctMjIzMC00ZjdlLWIxYjAtZDQ4NDhhOTJh...</td>\n",
       "      <td>NaN</td>\n",
       "      <td>NaN</td>\n",
       "      <td>NaN</td>\n",
       "      <td>NaN</td>\n",
       "      <td>NaN</td>\n",
       "      <td>2023-08-17 12:45:53</td>\n",
       "      <td>NaN</td>\n",
       "      <td>NaN</td>\n",
       "      <td>INBOX</td>\n",
       "    </tr>\n",
       "  </tbody>\n",
       "</table>\n",
       "</div>"
      ],
      "text/plain": [
       "                                      CONVERSATION ID CONVERSATION TITLE FROM  \\\n",
       "77  2-NjMxODdkODctMjIzMC00ZjdlLWIxYjAtZDQ4NDhhOTJh...                NaN  NaN   \n",
       "\n",
       "   SENDER PROFILE URL   TO RECIPIENT PROFILE URLS                 DATE  \\\n",
       "77                NaN  NaN                    NaN  2023-08-17 12:45:53   \n",
       "\n",
       "    SUBJECT CONTENT FOLDER  \n",
       "77      NaN     NaN  INBOX  "
      ]
     },
     "execution_count": 29,
     "metadata": {},
     "output_type": "execute_result"
    }
   ],
   "source": [
    "msg[msg['FROM'].isna()].head(1)"
   ]
  },
  {
   "cell_type": "code",
   "execution_count": 30,
   "metadata": {},
   "outputs": [
    {
     "data": {
      "text/plain": [
       "2090"
      ]
     },
     "execution_count": 30,
     "metadata": {},
     "output_type": "execute_result"
    }
   ],
   "source": [
    "msg = msg[msg['FROM'].notna()]\n",
    "len(msg) # notar que hemos descartado 7 registros mas"
   ]
  },
  {
   "cell_type": "markdown",
   "metadata": {},
   "source": [
    "### 5- Analizandos los campos utilizables para nuestro análisis"
   ]
  },
  {
   "cell_type": "code",
   "execution_count": 31,
   "metadata": {},
   "outputs": [
    {
     "data": {
      "text/html": [
       "<div>\n",
       "<style scoped>\n",
       "    .dataframe tbody tr th:only-of-type {\n",
       "        vertical-align: middle;\n",
       "    }\n",
       "\n",
       "    .dataframe tbody tr th {\n",
       "        vertical-align: top;\n",
       "    }\n",
       "\n",
       "    .dataframe thead th {\n",
       "        text-align: right;\n",
       "    }\n",
       "</style>\n",
       "<table border=\"1\" class=\"dataframe\">\n",
       "  <thead>\n",
       "    <tr style=\"text-align: right;\">\n",
       "      <th></th>\n",
       "      <th>CONVERSATION ID</th>\n",
       "      <th>CONVERSATION TITLE</th>\n",
       "      <th>FROM</th>\n",
       "      <th>SENDER PROFILE URL</th>\n",
       "      <th>TO</th>\n",
       "      <th>RECIPIENT PROFILE URLS</th>\n",
       "      <th>DATE</th>\n",
       "      <th>SUBJECT</th>\n",
       "      <th>CONTENT</th>\n",
       "      <th>FOLDER</th>\n",
       "    </tr>\n",
       "  </thead>\n",
       "  <tbody>\n",
       "    <tr>\n",
       "      <th>1</th>\n",
       "      <td>2-MGIyMDY4NDMtYjU1YS00ODY3LTkyMjQtY2I5MTMxZWIw...</td>\n",
       "      <td>NaN</td>\n",
       "      <td>Juan Martin Diaz</td>\n",
       "      <td>https://www.linkedin.com/in/juan-martin-diaz</td>\n",
       "      <td>Gaston Ariel Garcia</td>\n",
       "      <td>https://www.linkedin.com/in/gaston-ariel-garci...</td>\n",
       "      <td>2023-08-22 13:25:29</td>\n",
       "      <td>NaN</td>\n",
       "      <td>Gaston, te parecería que te pase esta info a a...</td>\n",
       "      <td>INBOX</td>\n",
       "    </tr>\n",
       "    <tr>\n",
       "      <th>4</th>\n",
       "      <td>2-MGIyMDY4NDMtYjU1YS00ODY3LTkyMjQtY2I5MTMxZWIw...</td>\n",
       "      <td>NaN</td>\n",
       "      <td>Juan Martin Diaz</td>\n",
       "      <td>https://www.linkedin.com/in/juan-martin-diaz</td>\n",
       "      <td>Gaston Ariel Garcia</td>\n",
       "      <td>https://www.linkedin.com/in/gaston-ariel-garci...</td>\n",
       "      <td>2023-08-17 12:44:50</td>\n",
       "      <td>NaN</td>\n",
       "      <td>Buen día Gaston, como estas? Un gusto conectar...</td>\n",
       "      <td>INBOX</td>\n",
       "    </tr>\n",
       "  </tbody>\n",
       "</table>\n",
       "</div>"
      ],
      "text/plain": [
       "                                     CONVERSATION ID CONVERSATION TITLE  \\\n",
       "1  2-MGIyMDY4NDMtYjU1YS00ODY3LTkyMjQtY2I5MTMxZWIw...                NaN   \n",
       "4  2-MGIyMDY4NDMtYjU1YS00ODY3LTkyMjQtY2I5MTMxZWIw...                NaN   \n",
       "\n",
       "               FROM                            SENDER PROFILE URL  \\\n",
       "1  Juan Martin Diaz  https://www.linkedin.com/in/juan-martin-diaz   \n",
       "4  Juan Martin Diaz  https://www.linkedin.com/in/juan-martin-diaz   \n",
       "\n",
       "                    TO                             RECIPIENT PROFILE URLS  \\\n",
       "1  Gaston Ariel Garcia  https://www.linkedin.com/in/gaston-ariel-garci...   \n",
       "4  Gaston Ariel Garcia  https://www.linkedin.com/in/gaston-ariel-garci...   \n",
       "\n",
       "                  DATE  SUBJECT  \\\n",
       "1  2023-08-22 13:25:29      NaN   \n",
       "4  2023-08-17 12:44:50      NaN   \n",
       "\n",
       "                                             CONTENT FOLDER  \n",
       "1  Gaston, te parecería que te pase esta info a a...  INBOX  \n",
       "4  Buen día Gaston, como estas? Un gusto conectar...  INBOX  "
      ]
     },
     "execution_count": 31,
     "metadata": {},
     "output_type": "execute_result"
    }
   ],
   "source": [
    "msg[msg['FROM'] == \"Juan Martin Diaz\"].head(2)"
   ]
  },
  {
   "cell_type": "markdown",
   "metadata": {},
   "source": [
    "Descartaremos las columnas que no nos sirven"
   ]
  },
  {
   "cell_type": "code",
   "execution_count": 32,
   "metadata": {},
   "outputs": [],
   "source": [
    "msg.drop(columns=['CONVERSATION TITLE', 'SUBJECT', 'SENDER PROFILE URL', 'RECIPIENT PROFILE URLS','FOLDER'], inplace=True)"
   ]
  },
  {
   "cell_type": "markdown",
   "metadata": {},
   "source": [
    "Mensajes enviados vs Mensajes recibidos"
   ]
  },
  {
   "cell_type": "code",
   "execution_count": 33,
   "metadata": {},
   "outputs": [
    {
     "name": "stdout",
     "output_type": "stream",
     "text": [
      "En el perído comprendido entre 2023-08-22 21:33:15 y 2022-04-05 13:44:13 se han enviado 1338 mensajes y se han recibido 752 mensajes\n"
     ]
    }
   ],
   "source": [
    "enviados = len(msg[msg['FROM'] == \"Juan Martin Diaz\"]) ##\n",
    "recibidos = len(msg[msg['TO'] == \"Juan Martin Diaz\"]) ##\n",
    "inicio = msg['DATE'].max()\n",
    "fin = msg['DATE'].min()\n",
    "\n",
    "print(f'En el perído comprendido entre {inicio} y {fin} se han enviado {enviados} mensajes y se han recibido {recibidos} mensajes')"
   ]
  },
  {
   "cell_type": "markdown",
   "metadata": {},
   "source": [
    "### 6- Modificación y traducción de nombres de columnas"
   ]
  },
  {
   "cell_type": "code",
   "execution_count": 34,
   "metadata": {},
   "outputs": [
    {
     "data": {
      "text/plain": [
       "Index(['CONVERSATION ID', 'FROM', 'TO', 'DATE', 'CONTENT'], dtype='object')"
      ]
     },
     "execution_count": 34,
     "metadata": {},
     "output_type": "execute_result"
    }
   ],
   "source": [
    "msg.columns"
   ]
  },
  {
   "cell_type": "code",
   "execution_count": 35,
   "metadata": {},
   "outputs": [],
   "source": [
    "msg.rename(columns={'CONVERSATION ID':'CHAT_ID','FROM':'ENVIADO_POR','TO':'RECIBIDO_POR','DATE':'FECHA','CONTENT':'CONTENIDO'},inplace=True)"
   ]
  },
  {
   "cell_type": "code",
   "execution_count": 36,
   "metadata": {},
   "outputs": [
    {
     "data": {
      "text/html": [
       "<div>\n",
       "<style scoped>\n",
       "    .dataframe tbody tr th:only-of-type {\n",
       "        vertical-align: middle;\n",
       "    }\n",
       "\n",
       "    .dataframe tbody tr th {\n",
       "        vertical-align: top;\n",
       "    }\n",
       "\n",
       "    .dataframe thead th {\n",
       "        text-align: right;\n",
       "    }\n",
       "</style>\n",
       "<table border=\"1\" class=\"dataframe\">\n",
       "  <thead>\n",
       "    <tr style=\"text-align: right;\">\n",
       "      <th></th>\n",
       "      <th>CHAT_ID</th>\n",
       "      <th>ENVIADO_POR</th>\n",
       "      <th>RECIBIDO_POR</th>\n",
       "      <th>FECHA</th>\n",
       "      <th>CONTENIDO</th>\n",
       "    </tr>\n",
       "  </thead>\n",
       "  <tbody>\n",
       "    <tr>\n",
       "      <th>0</th>\n",
       "      <td>2-MGIyMDY4NDMtYjU1YS00ODY3LTkyMjQtY2I5MTMxZWIw...</td>\n",
       "      <td>Gaston Ariel Garcia</td>\n",
       "      <td>Juan Martin Diaz</td>\n",
       "      <td>2023-08-22 21:33:15</td>\n",
       "      <td>Hola . gaston.garcia@medlog.com</td>\n",
       "    </tr>\n",
       "    <tr>\n",
       "      <th>1</th>\n",
       "      <td>2-MGIyMDY4NDMtYjU1YS00ODY3LTkyMjQtY2I5MTMxZWIw...</td>\n",
       "      <td>Juan Martin Diaz</td>\n",
       "      <td>Gaston Ariel Garcia</td>\n",
       "      <td>2023-08-22 13:25:29</td>\n",
       "      <td>Gaston, te parecería que te pase esta info a a...</td>\n",
       "    </tr>\n",
       "    <tr>\n",
       "      <th>2</th>\n",
       "      <td>2-MGIyMDY4NDMtYjU1YS00ODY3LTkyMjQtY2I5MTMxZWIw...</td>\n",
       "      <td>Gaston Ariel Garcia</td>\n",
       "      <td>Juan Martin Diaz</td>\n",
       "      <td>2023-08-17 15:41:07</td>\n",
       "      <td>Perfecto,  lo tengo presente por cualquier nec...</td>\n",
       "    </tr>\n",
       "    <tr>\n",
       "      <th>3</th>\n",
       "      <td>2-MGIyMDY4NDMtYjU1YS00ODY3LTkyMjQtY2I5MTMxZWIw...</td>\n",
       "      <td>Gaston Ariel Garcia</td>\n",
       "      <td>Juan Martin Diaz</td>\n",
       "      <td>2023-08-17 15:40:47</td>\n",
       "      <td>Hola Juan.</td>\n",
       "    </tr>\n",
       "    <tr>\n",
       "      <th>4</th>\n",
       "      <td>2-MGIyMDY4NDMtYjU1YS00ODY3LTkyMjQtY2I5MTMxZWIw...</td>\n",
       "      <td>Juan Martin Diaz</td>\n",
       "      <td>Gaston Ariel Garcia</td>\n",
       "      <td>2023-08-17 12:44:50</td>\n",
       "      <td>Buen día Gaston, como estas? Un gusto conectar...</td>\n",
       "    </tr>\n",
       "  </tbody>\n",
       "</table>\n",
       "</div>"
      ],
      "text/plain": [
       "                                             CHAT_ID          ENVIADO_POR  \\\n",
       "0  2-MGIyMDY4NDMtYjU1YS00ODY3LTkyMjQtY2I5MTMxZWIw...  Gaston Ariel Garcia   \n",
       "1  2-MGIyMDY4NDMtYjU1YS00ODY3LTkyMjQtY2I5MTMxZWIw...     Juan Martin Diaz   \n",
       "2  2-MGIyMDY4NDMtYjU1YS00ODY3LTkyMjQtY2I5MTMxZWIw...  Gaston Ariel Garcia   \n",
       "3  2-MGIyMDY4NDMtYjU1YS00ODY3LTkyMjQtY2I5MTMxZWIw...  Gaston Ariel Garcia   \n",
       "4  2-MGIyMDY4NDMtYjU1YS00ODY3LTkyMjQtY2I5MTMxZWIw...     Juan Martin Diaz   \n",
       "\n",
       "          RECIBIDO_POR                FECHA  \\\n",
       "0     Juan Martin Diaz  2023-08-22 21:33:15   \n",
       "1  Gaston Ariel Garcia  2023-08-22 13:25:29   \n",
       "2     Juan Martin Diaz  2023-08-17 15:41:07   \n",
       "3     Juan Martin Diaz  2023-08-17 15:40:47   \n",
       "4  Gaston Ariel Garcia  2023-08-17 12:44:50   \n",
       "\n",
       "                                           CONTENIDO  \n",
       "0                   Hola . gaston.garcia@medlog.com   \n",
       "1  Gaston, te parecería que te pase esta info a a...  \n",
       "2  Perfecto,  lo tengo presente por cualquier nec...  \n",
       "3                                        Hola Juan.   \n",
       "4  Buen día Gaston, como estas? Un gusto conectar...  "
      ]
     },
     "execution_count": 36,
     "metadata": {},
     "output_type": "execute_result"
    }
   ],
   "source": [
    "msg.head(5)"
   ]
  },
  {
   "cell_type": "markdown",
   "metadata": {},
   "source": [
    "El siguiente paso seria crear una api con fastapi y render para mostrar en vivo un analisis de los datos."
   ]
  }
 ],
 "metadata": {
  "kernelspec": {
   "display_name": "linkedin_analytics-env",
   "language": "python",
   "name": "python3"
  },
  "language_info": {
   "codemirror_mode": {
    "name": "ipython",
    "version": 3
   },
   "file_extension": ".py",
   "mimetype": "text/x-python",
   "name": "python",
   "nbconvert_exporter": "python",
   "pygments_lexer": "ipython3",
   "version": "3.11.1"
  },
  "orig_nbformat": 4
 },
 "nbformat": 4,
 "nbformat_minor": 2
}
