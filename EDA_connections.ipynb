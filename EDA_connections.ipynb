{
 "cells": [
  {
   "cell_type": "code",
   "execution_count": 54,
   "metadata": {},
   "outputs": [],
   "source": [
    "import pandas as pd\n",
    "import numpy as np\n",
    "import datetime as dt"
   ]
  },
  {
   "cell_type": "markdown",
   "metadata": {},
   "source": [
    "### 1- Carga de csv y análisis básico"
   ]
  },
  {
   "cell_type": "markdown",
   "metadata": {},
   "source": [
    "Notar que existe un error en la lectura del archivo, si analizamos el csv vamos a darnos cuenta que ese error es porque las primeras lineas del archivo no tienen un formato tabular, habrá que saltearlas.\n"
   ]
  },
  {
   "cell_type": "code",
   "execution_count": 55,
   "metadata": {},
   "outputs": [
    {
     "data": {
      "text/html": [
       "<div>\n",
       "<style scoped>\n",
       "    .dataframe tbody tr th:only-of-type {\n",
       "        vertical-align: middle;\n",
       "    }\n",
       "\n",
       "    .dataframe tbody tr th {\n",
       "        vertical-align: top;\n",
       "    }\n",
       "\n",
       "    .dataframe thead th {\n",
       "        text-align: right;\n",
       "    }\n",
       "</style>\n",
       "<table border=\"1\" class=\"dataframe\">\n",
       "  <thead>\n",
       "    <tr style=\"text-align: right;\">\n",
       "      <th></th>\n",
       "      <th>First Name</th>\n",
       "      <th>Last Name</th>\n",
       "      <th>URL</th>\n",
       "      <th>Email Address</th>\n",
       "      <th>Company</th>\n",
       "      <th>Position</th>\n",
       "      <th>Connected On</th>\n",
       "    </tr>\n",
       "  </thead>\n",
       "  <tbody>\n",
       "    <tr>\n",
       "      <th>0</th>\n",
       "      <td>Julián</td>\n",
       "      <td>Di Berardino</td>\n",
       "      <td>https://www.linkedin.com/in/juli%C3%A1n-di-ber...</td>\n",
       "      <td>NaN</td>\n",
       "      <td>Raízen</td>\n",
       "      <td>Analista Sr Planificación de paradas de planta</td>\n",
       "      <td>23 Aug 2023</td>\n",
       "    </tr>\n",
       "    <tr>\n",
       "      <th>1</th>\n",
       "      <td>Fiorella</td>\n",
       "      <td>Carballo</td>\n",
       "      <td>https://www.linkedin.com/in/fiorella-carballo-...</td>\n",
       "      <td>NaN</td>\n",
       "      <td>Petrex S.A.</td>\n",
       "      <td>Compradora</td>\n",
       "      <td>23 Aug 2023</td>\n",
       "    </tr>\n",
       "    <tr>\n",
       "      <th>2</th>\n",
       "      <td>Juan Manuel</td>\n",
       "      <td>Scaturro</td>\n",
       "      <td>https://www.linkedin.com/in/juan-manuel-scatur...</td>\n",
       "      <td>NaN</td>\n",
       "      <td>GENNEIA</td>\n",
       "      <td>Comprador Sr</td>\n",
       "      <td>23 Aug 2023</td>\n",
       "    </tr>\n",
       "    <tr>\n",
       "      <th>3</th>\n",
       "      <td>Lucas</td>\n",
       "      <td>Gavilan</td>\n",
       "      <td>https://www.linkedin.com/in/lucas-gavilan-a5ab...</td>\n",
       "      <td>NaN</td>\n",
       "      <td>AESA (A-Evangelista SA)</td>\n",
       "      <td>Administrador</td>\n",
       "      <td>23 Aug 2023</td>\n",
       "    </tr>\n",
       "  </tbody>\n",
       "</table>\n",
       "</div>"
      ],
      "text/plain": [
       "    First Name     Last Name  \\\n",
       "0       Julián  Di Berardino   \n",
       "1     Fiorella      Carballo   \n",
       "2  Juan Manuel      Scaturro   \n",
       "3        Lucas       Gavilan   \n",
       "\n",
       "                                                 URL Email Address  \\\n",
       "0  https://www.linkedin.com/in/juli%C3%A1n-di-ber...           NaN   \n",
       "1  https://www.linkedin.com/in/fiorella-carballo-...           NaN   \n",
       "2  https://www.linkedin.com/in/juan-manuel-scatur...           NaN   \n",
       "3  https://www.linkedin.com/in/lucas-gavilan-a5ab...           NaN   \n",
       "\n",
       "                   Company                                        Position  \\\n",
       "0                   Raízen  Analista Sr Planificación de paradas de planta   \n",
       "1              Petrex S.A.                                      Compradora   \n",
       "2                  GENNEIA                                    Comprador Sr   \n",
       "3  AESA (A-Evangelista SA)                                   Administrador   \n",
       "\n",
       "  Connected On  \n",
       "0  23 Aug 2023  \n",
       "1  23 Aug 2023  \n",
       "2  23 Aug 2023  \n",
       "3  23 Aug 2023  "
      ]
     },
     "execution_count": 55,
     "metadata": {},
     "output_type": "execute_result"
    }
   ],
   "source": [
    "con = pd.read_csv('datasets\\Connections.csv', skiprows=3)\n",
    "con.head(4)"
   ]
  },
  {
   "cell_type": "code",
   "execution_count": 56,
   "metadata": {},
   "outputs": [
    {
     "data": {
      "text/plain": [
       "(2247, 7)"
      ]
     },
     "execution_count": 56,
     "metadata": {},
     "output_type": "execute_result"
    }
   ],
   "source": [
    "con.shape"
   ]
  },
  {
   "cell_type": "code",
   "execution_count": 57,
   "metadata": {},
   "outputs": [
    {
     "data": {
      "text/plain": [
       "Index(['First Name', 'Last Name', 'URL', 'Email Address', 'Company',\n",
       "       'Position', 'Connected On'],\n",
       "      dtype='object')"
      ]
     },
     "execution_count": 57,
     "metadata": {},
     "output_type": "execute_result"
    }
   ],
   "source": [
    "con.columns"
   ]
  },
  {
   "cell_type": "code",
   "execution_count": 58,
   "metadata": {},
   "outputs": [
    {
     "name": "stdout",
     "output_type": "stream",
     "text": [
      "<class 'pandas.core.frame.DataFrame'>\n",
      "RangeIndex: 2247 entries, 0 to 2246\n",
      "Data columns (total 7 columns):\n",
      " #   Column         Non-Null Count  Dtype \n",
      "---  ------         --------------  ----- \n",
      " 0   First Name     2241 non-null   object\n",
      " 1   Last Name      2241 non-null   object\n",
      " 2   URL            2241 non-null   object\n",
      " 3   Email Address  74 non-null     object\n",
      " 4   Company        2226 non-null   object\n",
      " 5   Position       2228 non-null   object\n",
      " 6   Connected On   2247 non-null   object\n",
      "dtypes: object(7)\n",
      "memory usage: 123.0+ KB\n"
     ]
    }
   ],
   "source": [
    "con.info()"
   ]
  },
  {
   "cell_type": "markdown",
   "metadata": {},
   "source": [
    "### 2- Arreglo en la presentación del nombre y apellido de la persona conectada "
   ]
  },
  {
   "cell_type": "code",
   "execution_count": 59,
   "metadata": {},
   "outputs": [],
   "source": [
    "con['NOMBRE COMPLETO'] = con['First Name'] + \" \" + con['Last Name']\n",
    "con.drop(columns=['First Name', 'Last Name'], inplace=True) # eliminamos las columnas que ya no nos serviran"
   ]
  },
  {
   "cell_type": "code",
   "execution_count": 60,
   "metadata": {},
   "outputs": [
    {
     "data": {
      "text/plain": [
       "Index(['URL', 'Email Address', 'Company', 'Position', 'Connected On',\n",
       "       'NOMBRE COMPLETO'],\n",
       "      dtype='object')"
      ]
     },
     "execution_count": 60,
     "metadata": {},
     "output_type": "execute_result"
    }
   ],
   "source": [
    "con.columns"
   ]
  },
  {
   "cell_type": "markdown",
   "metadata": {},
   "source": [
    "Reordenamos columnas"
   ]
  },
  {
   "cell_type": "code",
   "execution_count": 61,
   "metadata": {},
   "outputs": [
    {
     "data": {
      "text/html": [
       "<div>\n",
       "<style scoped>\n",
       "    .dataframe tbody tr th:only-of-type {\n",
       "        vertical-align: middle;\n",
       "    }\n",
       "\n",
       "    .dataframe tbody tr th {\n",
       "        vertical-align: top;\n",
       "    }\n",
       "\n",
       "    .dataframe thead th {\n",
       "        text-align: right;\n",
       "    }\n",
       "</style>\n",
       "<table border=\"1\" class=\"dataframe\">\n",
       "  <thead>\n",
       "    <tr style=\"text-align: right;\">\n",
       "      <th></th>\n",
       "      <th>NOMBRE COMPLETO</th>\n",
       "      <th>URL</th>\n",
       "      <th>Email Address</th>\n",
       "      <th>Company</th>\n",
       "      <th>Position</th>\n",
       "      <th>Connected On</th>\n",
       "    </tr>\n",
       "  </thead>\n",
       "  <tbody>\n",
       "    <tr>\n",
       "      <th>0</th>\n",
       "      <td>Julián Di Berardino</td>\n",
       "      <td>https://www.linkedin.com/in/juli%C3%A1n-di-ber...</td>\n",
       "      <td>NaN</td>\n",
       "      <td>Raízen</td>\n",
       "      <td>Analista Sr Planificación de paradas de planta</td>\n",
       "      <td>23 Aug 2023</td>\n",
       "    </tr>\n",
       "    <tr>\n",
       "      <th>1</th>\n",
       "      <td>Fiorella Carballo</td>\n",
       "      <td>https://www.linkedin.com/in/fiorella-carballo-...</td>\n",
       "      <td>NaN</td>\n",
       "      <td>Petrex S.A.</td>\n",
       "      <td>Compradora</td>\n",
       "      <td>23 Aug 2023</td>\n",
       "    </tr>\n",
       "    <tr>\n",
       "      <th>2</th>\n",
       "      <td>Juan Manuel Scaturro</td>\n",
       "      <td>https://www.linkedin.com/in/juan-manuel-scatur...</td>\n",
       "      <td>NaN</td>\n",
       "      <td>GENNEIA</td>\n",
       "      <td>Comprador Sr</td>\n",
       "      <td>23 Aug 2023</td>\n",
       "    </tr>\n",
       "    <tr>\n",
       "      <th>3</th>\n",
       "      <td>Lucas Gavilan</td>\n",
       "      <td>https://www.linkedin.com/in/lucas-gavilan-a5ab...</td>\n",
       "      <td>NaN</td>\n",
       "      <td>AESA (A-Evangelista SA)</td>\n",
       "      <td>Administrador</td>\n",
       "      <td>23 Aug 2023</td>\n",
       "    </tr>\n",
       "    <tr>\n",
       "      <th>4</th>\n",
       "      <td>Mariano Margenet</td>\n",
       "      <td>https://www.linkedin.com/in/mariano-margenet</td>\n",
       "      <td>NaN</td>\n",
       "      <td>GENNEIA S.A.</td>\n",
       "      <td>Ingeniero de proyecto</td>\n",
       "      <td>23 Aug 2023</td>\n",
       "    </tr>\n",
       "    <tr>\n",
       "      <th>...</th>\n",
       "      <td>...</td>\n",
       "      <td>...</td>\n",
       "      <td>...</td>\n",
       "      <td>...</td>\n",
       "      <td>...</td>\n",
       "      <td>...</td>\n",
       "    </tr>\n",
       "    <tr>\n",
       "      <th>2242</th>\n",
       "      <td>Juan Facundo Quallio</td>\n",
       "      <td>https://www.linkedin.com/in/juan-facundo-quall...</td>\n",
       "      <td>NaN</td>\n",
       "      <td>KindaLab</td>\n",
       "      <td>FullStack Developer in Kindalab</td>\n",
       "      <td>16 Nov 2018</td>\n",
       "    </tr>\n",
       "    <tr>\n",
       "      <th>2243</th>\n",
       "      <td>Leandro Marcangelo Ramini</td>\n",
       "      <td>https://www.linkedin.com/in/leandromarcangelo</td>\n",
       "      <td>NaN</td>\n",
       "      <td>Universidad Tecnologica Nacional</td>\n",
       "      <td>Profesor Universitario</td>\n",
       "      <td>02 Nov 2018</td>\n",
       "    </tr>\n",
       "    <tr>\n",
       "      <th>2244</th>\n",
       "      <td>Gianni Humberto Sparvoli</td>\n",
       "      <td>https://www.linkedin.com/in/gianni-humberto-sp...</td>\n",
       "      <td>NaN</td>\n",
       "      <td>EEST N° 6</td>\n",
       "      <td>Profesor</td>\n",
       "      <td>01 Nov 2018</td>\n",
       "    </tr>\n",
       "    <tr>\n",
       "      <th>2245</th>\n",
       "      <td>German Gozdziewski</td>\n",
       "      <td>https://www.linkedin.com/in/german-gozdziewski...</td>\n",
       "      <td>NaN</td>\n",
       "      <td>UTN frsn</td>\n",
       "      <td>jefe de laboratorio electronica</td>\n",
       "      <td>29 Oct 2018</td>\n",
       "    </tr>\n",
       "    <tr>\n",
       "      <th>2246</th>\n",
       "      <td>Romina Sejas</td>\n",
       "      <td>https://www.linkedin.com/in/romina-sejas-53aaa...</td>\n",
       "      <td>NaN</td>\n",
       "      <td>Estudio Zahir</td>\n",
       "      <td>Profesor de danza</td>\n",
       "      <td>01 May 2018</td>\n",
       "    </tr>\n",
       "  </tbody>\n",
       "</table>\n",
       "<p>2247 rows × 6 columns</p>\n",
       "</div>"
      ],
      "text/plain": [
       "                NOMBRE COMPLETO  \\\n",
       "0           Julián Di Berardino   \n",
       "1             Fiorella Carballo   \n",
       "2          Juan Manuel Scaturro   \n",
       "3                 Lucas Gavilan   \n",
       "4              Mariano Margenet   \n",
       "...                         ...   \n",
       "2242       Juan Facundo Quallio   \n",
       "2243  Leandro Marcangelo Ramini   \n",
       "2244   Gianni Humberto Sparvoli   \n",
       "2245         German Gozdziewski   \n",
       "2246               Romina Sejas   \n",
       "\n",
       "                                                    URL Email Address  \\\n",
       "0     https://www.linkedin.com/in/juli%C3%A1n-di-ber...           NaN   \n",
       "1     https://www.linkedin.com/in/fiorella-carballo-...           NaN   \n",
       "2     https://www.linkedin.com/in/juan-manuel-scatur...           NaN   \n",
       "3     https://www.linkedin.com/in/lucas-gavilan-a5ab...           NaN   \n",
       "4          https://www.linkedin.com/in/mariano-margenet           NaN   \n",
       "...                                                 ...           ...   \n",
       "2242  https://www.linkedin.com/in/juan-facundo-quall...           NaN   \n",
       "2243      https://www.linkedin.com/in/leandromarcangelo           NaN   \n",
       "2244  https://www.linkedin.com/in/gianni-humberto-sp...           NaN   \n",
       "2245  https://www.linkedin.com/in/german-gozdziewski...           NaN   \n",
       "2246  https://www.linkedin.com/in/romina-sejas-53aaa...           NaN   \n",
       "\n",
       "                               Company  \\\n",
       "0                               Raízen   \n",
       "1                          Petrex S.A.   \n",
       "2                              GENNEIA   \n",
       "3              AESA (A-Evangelista SA)   \n",
       "4                         GENNEIA S.A.   \n",
       "...                                ...   \n",
       "2242                          KindaLab   \n",
       "2243  Universidad Tecnologica Nacional   \n",
       "2244                         EEST N° 6   \n",
       "2245                          UTN frsn   \n",
       "2246                     Estudio Zahir   \n",
       "\n",
       "                                            Position Connected On  \n",
       "0     Analista Sr Planificación de paradas de planta  23 Aug 2023  \n",
       "1                                         Compradora  23 Aug 2023  \n",
       "2                                       Comprador Sr  23 Aug 2023  \n",
       "3                                      Administrador  23 Aug 2023  \n",
       "4                              Ingeniero de proyecto  23 Aug 2023  \n",
       "...                                              ...          ...  \n",
       "2242                 FullStack Developer in Kindalab  16 Nov 2018  \n",
       "2243                          Profesor Universitario  02 Nov 2018  \n",
       "2244                                        Profesor  01 Nov 2018  \n",
       "2245                 jefe de laboratorio electronica  29 Oct 2018  \n",
       "2246                               Profesor de danza  01 May 2018  \n",
       "\n",
       "[2247 rows x 6 columns]"
      ]
     },
     "execution_count": 61,
     "metadata": {},
     "output_type": "execute_result"
    }
   ],
   "source": [
    "nuevo_orden = ['NOMBRE COMPLETO','URL', 'Email Address', 'Company', 'Position', 'Connected On']\n",
    "con = con.reindex(columns=nuevo_orden)\n",
    "con"
   ]
  },
  {
   "cell_type": "markdown",
   "metadata": {},
   "source": [
    "### 3- Eliminación de la columna 'Email Address'"
   ]
  },
  {
   "cell_type": "markdown",
   "metadata": {},
   "source": [
    "Los Emails que figuran en la columna 'Email Address' corresponden a Emails personales, no son de mucha utilidad ni para el análisis ni para la tarea de ventas, ya que se buscará siempre conseguir un contacto mas profesional (Email empresarial)."
   ]
  },
  {
   "cell_type": "code",
   "execution_count": 62,
   "metadata": {},
   "outputs": [
    {
     "data": {
      "text/plain": [
       "Email Address\n",
       "lautarofornaro@outlook.com    1\n",
       "diegor_blanco@hotmail.com     1\n",
       "lucfedleon@gmail.com          1\n",
       "eliana.suarez.01@gmail.com    1\n",
       "seba2233@hotmail.com.ar       1\n",
       "                             ..\n",
       "bcamandone@gmail.com          1\n",
       "marcosaudisio@gmail.com       1\n",
       "mariavalmandoz@hotmail.com    1\n",
       "luislegui07@hotmail.com       1\n",
       "nahirpr21@gmail.com           1\n",
       "Name: count, Length: 74, dtype: int64"
      ]
     },
     "execution_count": 62,
     "metadata": {},
     "output_type": "execute_result"
    }
   ],
   "source": [
    "con['Email Address'].value_counts() "
   ]
  },
  {
   "cell_type": "markdown",
   "metadata": {},
   "source": [
    "Dicho ésto, borraremos la columna 'Email Address'"
   ]
  },
  {
   "cell_type": "code",
   "execution_count": 63,
   "metadata": {},
   "outputs": [],
   "source": [
    "con.drop(columns=['Email Address'], inplace=True)"
   ]
  },
  {
   "cell_type": "code",
   "execution_count": 64,
   "metadata": {},
   "outputs": [
    {
     "data": {
      "text/html": [
       "<div>\n",
       "<style scoped>\n",
       "    .dataframe tbody tr th:only-of-type {\n",
       "        vertical-align: middle;\n",
       "    }\n",
       "\n",
       "    .dataframe tbody tr th {\n",
       "        vertical-align: top;\n",
       "    }\n",
       "\n",
       "    .dataframe thead th {\n",
       "        text-align: right;\n",
       "    }\n",
       "</style>\n",
       "<table border=\"1\" class=\"dataframe\">\n",
       "  <thead>\n",
       "    <tr style=\"text-align: right;\">\n",
       "      <th></th>\n",
       "      <th>NOMBRE COMPLETO</th>\n",
       "      <th>URL</th>\n",
       "      <th>Company</th>\n",
       "      <th>Position</th>\n",
       "      <th>Connected On</th>\n",
       "    </tr>\n",
       "  </thead>\n",
       "  <tbody>\n",
       "    <tr>\n",
       "      <th>0</th>\n",
       "      <td>Julián Di Berardino</td>\n",
       "      <td>https://www.linkedin.com/in/juli%C3%A1n-di-ber...</td>\n",
       "      <td>Raízen</td>\n",
       "      <td>Analista Sr Planificación de paradas de planta</td>\n",
       "      <td>23 Aug 2023</td>\n",
       "    </tr>\n",
       "    <tr>\n",
       "      <th>1</th>\n",
       "      <td>Fiorella Carballo</td>\n",
       "      <td>https://www.linkedin.com/in/fiorella-carballo-...</td>\n",
       "      <td>Petrex S.A.</td>\n",
       "      <td>Compradora</td>\n",
       "      <td>23 Aug 2023</td>\n",
       "    </tr>\n",
       "    <tr>\n",
       "      <th>2</th>\n",
       "      <td>Juan Manuel Scaturro</td>\n",
       "      <td>https://www.linkedin.com/in/juan-manuel-scatur...</td>\n",
       "      <td>GENNEIA</td>\n",
       "      <td>Comprador Sr</td>\n",
       "      <td>23 Aug 2023</td>\n",
       "    </tr>\n",
       "    <tr>\n",
       "      <th>3</th>\n",
       "      <td>Lucas Gavilan</td>\n",
       "      <td>https://www.linkedin.com/in/lucas-gavilan-a5ab...</td>\n",
       "      <td>AESA (A-Evangelista SA)</td>\n",
       "      <td>Administrador</td>\n",
       "      <td>23 Aug 2023</td>\n",
       "    </tr>\n",
       "  </tbody>\n",
       "</table>\n",
       "</div>"
      ],
      "text/plain": [
       "        NOMBRE COMPLETO                                                URL  \\\n",
       "0   Julián Di Berardino  https://www.linkedin.com/in/juli%C3%A1n-di-ber...   \n",
       "1     Fiorella Carballo  https://www.linkedin.com/in/fiorella-carballo-...   \n",
       "2  Juan Manuel Scaturro  https://www.linkedin.com/in/juan-manuel-scatur...   \n",
       "3         Lucas Gavilan  https://www.linkedin.com/in/lucas-gavilan-a5ab...   \n",
       "\n",
       "                   Company                                        Position  \\\n",
       "0                   Raízen  Analista Sr Planificación de paradas de planta   \n",
       "1              Petrex S.A.                                      Compradora   \n",
       "2                  GENNEIA                                    Comprador Sr   \n",
       "3  AESA (A-Evangelista SA)                                   Administrador   \n",
       "\n",
       "  Connected On  \n",
       "0  23 Aug 2023  \n",
       "1  23 Aug 2023  \n",
       "2  23 Aug 2023  \n",
       "3  23 Aug 2023  "
      ]
     },
     "execution_count": 64,
     "metadata": {},
     "output_type": "execute_result"
    }
   ],
   "source": [
    "con.head(4)"
   ]
  },
  {
   "cell_type": "markdown",
   "metadata": {},
   "source": [
    "### 4- Análisis de la columna 'Company'"
   ]
  },
  {
   "cell_type": "code",
   "execution_count": 65,
   "metadata": {},
   "outputs": [
    {
     "data": {
      "text/html": [
       "<div>\n",
       "<style scoped>\n",
       "    .dataframe tbody tr th:only-of-type {\n",
       "        vertical-align: middle;\n",
       "    }\n",
       "\n",
       "    .dataframe tbody tr th {\n",
       "        vertical-align: top;\n",
       "    }\n",
       "\n",
       "    .dataframe thead th {\n",
       "        text-align: right;\n",
       "    }\n",
       "</style>\n",
       "<table border=\"1\" class=\"dataframe\">\n",
       "  <thead>\n",
       "    <tr style=\"text-align: right;\">\n",
       "      <th></th>\n",
       "      <th>NOMBRE COMPLETO</th>\n",
       "      <th>URL</th>\n",
       "      <th>EMPRESA</th>\n",
       "      <th>PUESTO</th>\n",
       "      <th>FECHA_CONEXION</th>\n",
       "    </tr>\n",
       "  </thead>\n",
       "  <tbody>\n",
       "    <tr>\n",
       "      <th>0</th>\n",
       "      <td>Julián Di Berardino</td>\n",
       "      <td>https://www.linkedin.com/in/juli%C3%A1n-di-ber...</td>\n",
       "      <td>Raízen</td>\n",
       "      <td>Analista Sr Planificación de paradas de planta</td>\n",
       "      <td>23 Aug 2023</td>\n",
       "    </tr>\n",
       "    <tr>\n",
       "      <th>1</th>\n",
       "      <td>Fiorella Carballo</td>\n",
       "      <td>https://www.linkedin.com/in/fiorella-carballo-...</td>\n",
       "      <td>Petrex S.A.</td>\n",
       "      <td>Compradora</td>\n",
       "      <td>23 Aug 2023</td>\n",
       "    </tr>\n",
       "    <tr>\n",
       "      <th>2</th>\n",
       "      <td>Juan Manuel Scaturro</td>\n",
       "      <td>https://www.linkedin.com/in/juan-manuel-scatur...</td>\n",
       "      <td>GENNEIA</td>\n",
       "      <td>Comprador Sr</td>\n",
       "      <td>23 Aug 2023</td>\n",
       "    </tr>\n",
       "    <tr>\n",
       "      <th>3</th>\n",
       "      <td>Lucas Gavilan</td>\n",
       "      <td>https://www.linkedin.com/in/lucas-gavilan-a5ab...</td>\n",
       "      <td>AESA (A-Evangelista SA)</td>\n",
       "      <td>Administrador</td>\n",
       "      <td>23 Aug 2023</td>\n",
       "    </tr>\n",
       "  </tbody>\n",
       "</table>\n",
       "</div>"
      ],
      "text/plain": [
       "        NOMBRE COMPLETO                                                URL  \\\n",
       "0   Julián Di Berardino  https://www.linkedin.com/in/juli%C3%A1n-di-ber...   \n",
       "1     Fiorella Carballo  https://www.linkedin.com/in/fiorella-carballo-...   \n",
       "2  Juan Manuel Scaturro  https://www.linkedin.com/in/juan-manuel-scatur...   \n",
       "3         Lucas Gavilan  https://www.linkedin.com/in/lucas-gavilan-a5ab...   \n",
       "\n",
       "                   EMPRESA                                          PUESTO  \\\n",
       "0                   Raízen  Analista Sr Planificación de paradas de planta   \n",
       "1              Petrex S.A.                                      Compradora   \n",
       "2                  GENNEIA                                    Comprador Sr   \n",
       "3  AESA (A-Evangelista SA)                                   Administrador   \n",
       "\n",
       "  FECHA_CONEXION  \n",
       "0    23 Aug 2023  \n",
       "1    23 Aug 2023  \n",
       "2    23 Aug 2023  \n",
       "3    23 Aug 2023  "
      ]
     },
     "execution_count": 65,
     "metadata": {},
     "output_type": "execute_result"
    }
   ],
   "source": [
    "# Ponemos el nombre de la columna en mayúsculas y en español para mejor presentacion, ya que está cambiaremos todas las columnas\n",
    "con.rename(columns={'Company':'EMPRESA','Position':'PUESTO', 'Connected On':'FECHA_CONEXION'}, inplace=True)\n",
    "con.head(4)"
   ]
  },
  {
   "cell_type": "code",
   "execution_count": null,
   "metadata": {},
   "outputs": [],
   "source": []
  }
 ],
 "metadata": {
  "kernelspec": {
   "display_name": "linkedin_analytics-env",
   "language": "python",
   "name": "python3"
  },
  "language_info": {
   "codemirror_mode": {
    "name": "ipython",
    "version": 3
   },
   "file_extension": ".py",
   "mimetype": "text/x-python",
   "name": "python",
   "nbconvert_exporter": "python",
   "pygments_lexer": "ipython3",
   "version": "3.11.1"
  }
 },
 "nbformat": 4,
 "nbformat_minor": 2
}
